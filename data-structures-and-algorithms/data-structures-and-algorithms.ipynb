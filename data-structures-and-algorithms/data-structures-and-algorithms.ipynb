{
 "cells": [
  {
   "cell_type": "code",
   "execution_count": 32,
   "metadata": {},
   "outputs": [],
   "source": [
    "from typing import Optional"
   ]
  },
  {
   "cell_type": "markdown",
   "metadata": {},
   "source": [
    "# **Структуры данных**"
   ]
  },
  {
   "cell_type": "markdown",
   "metadata": {},
   "source": [
    "## **1. Односвязный список (singly linked list)**"
   ]
  },
  {
   "cell_type": "markdown",
   "metadata": {},
   "source": [
    "Cтруктура данных, состоящая из узлов, каждый из которых содержит два элемента:\n",
    "\n",
    "- данные (значение, которое хранит узел).\n",
    "- ссылка (указатель) на следующий узел в списке.\n",
    "\n",
    "В односвязном списке каждый узел знает только о следующем узле, но не о предыдущем."
   ]
  },
  {
   "cell_type": "code",
   "execution_count": 13,
   "metadata": {},
   "outputs": [],
   "source": [
    "class Node:\n",
    "    def __init__(self, data, next=None):\n",
    "        self.data = data  # / Данные узла.\n",
    "        self.next = next  # / Ссылка на следующий узел."
   ]
  },
  {
   "cell_type": "code",
   "execution_count": 14,
   "metadata": {},
   "outputs": [
    {
     "name": "stdout",
     "output_type": "stream",
     "text": [
      "1\n",
      "2\n",
      "3\n",
      "4\n",
      "5\n"
     ]
    }
   ],
   "source": [
    "# / Сохраним данные внутри узлов односвязного списка.\n",
    "node1 = Node(1)\n",
    "node2 = Node(2)\n",
    "node3 = Node(3)\n",
    "node4 = Node(4)\n",
    "node5 = Node(5)\n",
    "\n",
    "# / Свяжем узлы в односвязном списке между собой.\n",
    "node1.next = node2\n",
    "node2.next = node3\n",
    "node3.next = node4\n",
    "node4.next = node5\n",
    "\n",
    "# / Проверка связей.\n",
    "current = node1\n",
    "while current:\n",
    "    print(current.data)\n",
    "    current = current.next"
   ]
  },
  {
   "cell_type": "code",
   "execution_count": 15,
   "metadata": {},
   "outputs": [
    {
     "name": "stdout",
     "output_type": "stream",
     "text": [
      "1 2 3 4 5\n",
      "2 3 4 5\n",
      "3 4 5\n",
      "4 5\n",
      "5\n"
     ]
    }
   ],
   "source": [
    "print(node1.data, node1.next.data, node1.next.next.data, node1.next.next.next.data, node1.next.next.next.next.data)\n",
    "print(node2.data, node2.next.data, node2.next.next.data, node2.next.next.next.data)\n",
    "print(node3.data, node3.next.data, node3.next.next.data)\n",
    "print(node4.data, node4.next.data)\n",
    "print(node5.data)"
   ]
  },
  {
   "cell_type": "code",
   "execution_count": 41,
   "metadata": {},
   "outputs": [],
   "source": [
    "# / Еще один способ формирования связанного списка.\n",
    "head = Node(1, Node(2, Node(3, Node(4, Node(5))))) # / 1 -> 2 -> 3 -> 4 -> 5  "
   ]
  },
  {
   "cell_type": "code",
   "execution_count": 42,
   "metadata": {},
   "outputs": [
    {
     "name": "stdout",
     "output_type": "stream",
     "text": [
      "1 2 3 4 5\n"
     ]
    }
   ],
   "source": [
    "print(head.data, head.next.data, head.next.next.data, head.next.next.next.data, head.next.next.next.next.data)"
   ]
  },
  {
   "cell_type": "markdown",
   "metadata": {},
   "source": [
    "**Leetcode / 206. Reverse Linked List**\n",
    "\n",
    "Необходимо развернуть связанный список в обратном порядке."
   ]
  },
  {
   "cell_type": "code",
   "execution_count": 52,
   "metadata": {},
   "outputs": [],
   "source": [
    "def reverseList(head: Optional[Node]) -> Optional[Node]:\n",
    "    \n",
    "    prev = None # / Предыдущий элемент.\n",
    "    current = head\n",
    "\n",
    "    print(current.data)\n",
    "\n",
    "    while current:\n",
    "        next_node = current.next  # / Ссылка на следующий узел.\n",
    "        print(next_node.data)\n",
    "\n",
    "        current.next = prev       # / Разворачиваем ссылку.\n",
    "        prev = current            # / Двигаем prev вперёд.\n",
    "        print(prev.data)\n",
    "        \n",
    "        current = next_node       # / Двигаем current вперёд.\n",
    "        print(current.data)\n",
    "\n",
    "    return prev  # / Новый head"
   ]
  },
  {
   "cell_type": "code",
   "execution_count": 53,
   "metadata": {},
   "outputs": [
    {
     "name": "stdout",
     "output_type": "stream",
     "text": [
      "1\n"
     ]
    },
    {
     "ename": "AttributeError",
     "evalue": "'NoneType' object has no attribute 'data'",
     "output_type": "error",
     "traceback": [
      "\u001b[1;31m---------------------------------------------------------------------------\u001b[0m",
      "\u001b[1;31mAttributeError\u001b[0m                            Traceback (most recent call last)",
      "Cell \u001b[1;32mIn[53], line 1\u001b[0m\n\u001b[1;32m----> 1\u001b[0m new_head \u001b[38;5;241m=\u001b[39m \u001b[43mreverseList\u001b[49m\u001b[43m(\u001b[49m\u001b[43mhead\u001b[49m\u001b[43m)\u001b[49m\n",
      "Cell \u001b[1;32mIn[52], line 10\u001b[0m, in \u001b[0;36mreverseList\u001b[1;34m(head)\u001b[0m\n\u001b[0;32m      8\u001b[0m \u001b[38;5;28;01mwhile\u001b[39;00m current:\n\u001b[0;32m      9\u001b[0m     next_node \u001b[38;5;241m=\u001b[39m current\u001b[38;5;241m.\u001b[39mnext  \u001b[38;5;66;03m# / Ссылка на следующий узел.\u001b[39;00m\n\u001b[1;32m---> 10\u001b[0m     \u001b[38;5;28mprint\u001b[39m(\u001b[43mnext_node\u001b[49m\u001b[38;5;241;43m.\u001b[39;49m\u001b[43mdata\u001b[49m)\n\u001b[0;32m     12\u001b[0m     current\u001b[38;5;241m.\u001b[39mnext \u001b[38;5;241m=\u001b[39m prev       \u001b[38;5;66;03m# / Разворачиваем ссылку.\u001b[39;00m\n\u001b[0;32m     13\u001b[0m     prev \u001b[38;5;241m=\u001b[39m current            \u001b[38;5;66;03m# / Двигаем prev вперёд.\u001b[39;00m\n",
      "\u001b[1;31mAttributeError\u001b[0m: 'NoneType' object has no attribute 'data'"
     ]
    }
   ],
   "source": [
    "new_head = reverseList(head)"
   ]
  },
  {
   "cell_type": "code",
   "execution_count": 49,
   "metadata": {},
   "outputs": [
    {
     "ename": "AttributeError",
     "evalue": "'NoneType' object has no attribute 'data'",
     "output_type": "error",
     "traceback": [
      "\u001b[1;31m---------------------------------------------------------------------------\u001b[0m",
      "\u001b[1;31mAttributeError\u001b[0m                            Traceback (most recent call last)",
      "Cell \u001b[1;32mIn[49], line 1\u001b[0m\n\u001b[1;32m----> 1\u001b[0m \u001b[38;5;28mprint\u001b[39m(new_head\u001b[38;5;241m.\u001b[39mdata, \u001b[43mnew_head\u001b[49m\u001b[38;5;241;43m.\u001b[39;49m\u001b[43mnext\u001b[49m\u001b[38;5;241;43m.\u001b[39;49m\u001b[43mdata\u001b[49m, new_head\u001b[38;5;241m.\u001b[39mnext\u001b[38;5;241m.\u001b[39mnext\u001b[38;5;241m.\u001b[39mdata, new_head\u001b[38;5;241m.\u001b[39mnext\u001b[38;5;241m.\u001b[39mnext\u001b[38;5;241m.\u001b[39mnext\u001b[38;5;241m.\u001b[39mdata)\n",
      "\u001b[1;31mAttributeError\u001b[0m: 'NoneType' object has no attribute 'data'"
     ]
    }
   ],
   "source": [
    "print(new_head.data, new_head.next.data, new_head.next.next.data, new_head.next.next.next.data)"
   ]
  },
  {
   "cell_type": "markdown",
   "metadata": {},
   "source": [
    "## **2. Двоичное дерево (binary tree)**"
   ]
  },
  {
   "cell_type": "markdown",
   "metadata": {},
   "source": [
    "**Основные понятия:**\n",
    "\n",
    "- **Корень (root)** — первый узел дерева.\n",
    "\n",
    "- **Лист (leaf)** — узел, у которого нет потомков.\n",
    "\n",
    "- **Родитель (parent)** — узел, имеющий потомков.\n",
    "\n",
    "- **Потомки (children)** — узлы, являющиеся дочерними для родителя.\n",
    "\n",
    "- **Высота дерева (height)** — длина самого длинного пути от корня до листа.\n",
    "\n",
    "- **Глубина узла (depth)** — количество ребер от корня до узла."
   ]
  },
  {
   "cell_type": "markdown",
   "metadata": {},
   "source": [
    "**Виды двоичных деревьев:**\n",
    "\n",
    "- Полное двоичное дерево (**full binary tree**) — у каждого узла либо два потомка, либо нет потомков.\n",
    "\n",
    "- Полное сбалансированное (**perfect binary tree**) — все уровни, кроме последнего, заполнены полностью.\n",
    "- Полное (**complete binary tree**) — заполнено слева направо, но последний уровень может быть не до конца заполнен.  \n",
    "- Сбалансированное (**balanced binary tree**) — разница высот поддеревьев любого узла не превышает 1.\n",
    "- Бинарное дерево поиска (**binary search tree, BST**) — левый потомок содержит значения меньше родителя, а правый — больше."
   ]
  },
  {
   "cell_type": "code",
   "execution_count": 4,
   "metadata": {},
   "outputs": [],
   "source": [
    "#  / Пример двоичного дерева.\n",
    "#               1\n",
    "#              / \\\n",
    "#             2   6\n",
    "#            / \\ / \\\n",
    "#           3  4 7  8\n",
    "#          / \\     / \\\n",
    "#         5  10   11  9"
   ]
  },
  {
   "cell_type": "code",
   "execution_count": 56,
   "metadata": {},
   "outputs": [],
   "source": [
    "class TreeNode: # / Узел дерева.\n",
    "    def __init__(self, value=0, left=None, right=None):\n",
    "        self.value = value\n",
    "        self.left = left\n",
    "        self.right = right"
   ]
  },
  {
   "cell_type": "code",
   "execution_count": 57,
   "metadata": {},
   "outputs": [
    {
     "name": "stdout",
     "output_type": "stream",
     "text": [
      "1\n",
      "6\n",
      "8\n",
      "9\n"
     ]
    }
   ],
   "source": [
    "# / Сохраним данные внутри узлов двоичного дерева.\n",
    "node01 = TreeNode(1)\n",
    "node02 = TreeNode(2)\n",
    "node03 = TreeNode(3)\n",
    "node04 = TreeNode(4)\n",
    "node05 = TreeNode(5)\n",
    "node06 = TreeNode(6)\n",
    "node07 = TreeNode(7)\n",
    "node08 = TreeNode(8)\n",
    "node09 = TreeNode(9)\n",
    "node10 = TreeNode(10)\n",
    "node11 = TreeNode(11)\n",
    "\n",
    "# / Свяжем узлы между собой.\n",
    "node01.left = node02 ; node01.right = node06\n",
    "node02.left = node03 ; node02.right = node04\n",
    "node03.left = node05 ; node03.right = node10\n",
    "node04.left = None   ; node04.right = None\n",
    "node05.left = None   ; node05.right = None\n",
    "node06.left = node07 ; node06.right = node08\n",
    "node07.left = None   ; node07.right = None\n",
    "node08.left = node11 ; node08.right = node09\n",
    "node09.left = None   ; node09.right = None\n",
    "node10.left = None   ; node10.right = None\n",
    "node11.left = None   ; node11.right = None\n",
    "\n",
    "# / Проверка связей.\n",
    "current = node01\n",
    "while current:\n",
    "    print(current.value)\n",
    "    current = current.right"
   ]
  },
  {
   "cell_type": "markdown",
   "metadata": {},
   "source": [
    "**Leetcode / 104. Maximum Depth of Binary Tree**\n",
    "\n",
    "Найти макисмальную глубину дерева."
   ]
  },
  {
   "cell_type": "code",
   "execution_count": 59,
   "metadata": {},
   "outputs": [],
   "source": [
    "# / Решение с рекурсией (DFS).\n",
    "def maxDepth(root):\n",
    "    \"\"\"\n",
    "    :type root: Optional[TreeNode]\n",
    "    :rtype: int\n",
    "    \"\"\"\n",
    "    if not root: # / Если узел пустой, мы достигли конца ветки. Глубина в этом направлении = 0.\n",
    "        return 0\n",
    "    # / Рекурсивно вычисляем глубины поддеревьев, берем макисмум и прибавляем текущий узел.\n",
    "    return 1 + max(maxDepth(root.left), maxDepth(root.right))"
   ]
  },
  {
   "cell_type": "code",
   "execution_count": 60,
   "metadata": {},
   "outputs": [
    {
     "data": {
      "text/plain": [
       "4"
      ]
     },
     "execution_count": 60,
     "metadata": {},
     "output_type": "execute_result"
    }
   ],
   "source": [
    "maxDepth(node01)"
   ]
  },
  {
   "cell_type": "markdown",
   "metadata": {},
   "source": [
    "При обходе дерева мы посещаем все его узлы в определённом порядке. \n",
    "\n",
    "Существует несколько основных способов обхода дерева, каждый из которых имеет свои особенности и применения."
   ]
  },
  {
   "cell_type": "markdown",
   "metadata": {},
   "source": [
    "### **Поиск в глубину  (Depth-first search, DFS)**"
   ]
  },
  {
   "cell_type": "markdown",
   "metadata": {},
   "source": [
    "#### **Прямой обход (Preorder Traversal)**\n",
    "\n",
    "Порядок обхода:\n",
    "\n",
    "    Корень -> Левое поддерево -> Правое поддерево"
   ]
  },
  {
   "cell_type": "code",
   "execution_count": 32,
   "metadata": {},
   "outputs": [
    {
     "name": "stdout",
     "output_type": "stream",
     "text": [
      "1 2 3 5 10 4 6 7 8 11 9 "
     ]
    }
   ],
   "source": [
    "def preorder(root):\n",
    "    if root:\n",
    "        print(root.value, end=\" \")\n",
    "        preorder(root.left)\n",
    "        preorder(root.right)\n",
    "\n",
    "preorder(node01)"
   ]
  },
  {
   "cell_type": "markdown",
   "metadata": {},
   "source": [
    "#### **Симметричный обход (Inorder Traversal)**\n",
    "\n",
    "Порядок обхода:\n",
    "\n",
    "    Левое поддерево -> Корень -> Правое поддерево"
   ]
  },
  {
   "cell_type": "code",
   "execution_count": 33,
   "metadata": {},
   "outputs": [
    {
     "name": "stdout",
     "output_type": "stream",
     "text": [
      "5 3 10 2 4 1 7 6 11 8 9 "
     ]
    }
   ],
   "source": [
    "def inorder(root):\n",
    "    if root:\n",
    "        inorder(root.left)\n",
    "        print(root.value, end=\" \")\n",
    "        inorder(root.right)\n",
    "\n",
    "inorder(node01)"
   ]
  },
  {
   "cell_type": "markdown",
   "metadata": {},
   "source": [
    "#### **Обратный обход (Postorder Traversal)**\n",
    "\n",
    "Порядок обхода:\n",
    "\n",
    "    Левое поддерево -> Правое поддерево -> Корень"
   ]
  },
  {
   "cell_type": "code",
   "execution_count": 35,
   "metadata": {},
   "outputs": [
    {
     "name": "stdout",
     "output_type": "stream",
     "text": [
      "5 10 3 4 2 7 11 9 8 6 1 "
     ]
    }
   ],
   "source": [
    "def postorder(root):\n",
    "    if root:\n",
    "        postorder(root.left)\n",
    "        postorder(root.right)\n",
    "        print(root.value, end=\" \")\n",
    "\n",
    "postorder(node01)"
   ]
  },
  {
   "cell_type": "markdown",
   "metadata": {},
   "source": [
    "### **Поиск в ширину (Level-order Traversal) / (Breadth-First Search, BFS)**\n",
    "\n",
    "Порядок обхода:\n",
    "    \n",
    "    Посещение узлов по уровням от корня к нижним уровням слева направо."
   ]
  },
  {
   "cell_type": "code",
   "execution_count": 61,
   "metadata": {},
   "outputs": [
    {
     "name": "stdout",
     "output_type": "stream",
     "text": [
      "1 2 6 3 4 7 8 5 10 11 9 "
     ]
    }
   ],
   "source": [
    "from collections import deque\n",
    "\n",
    "def level_order(root):\n",
    "    if not root:\n",
    "        return\n",
    "    queue = deque([root])\n",
    "    while queue:\n",
    "        node = queue.popleft()  # / Из очереди извлекается первый узел.\n",
    "        print(node.value, end=\" \")\n",
    "        if node.left:\n",
    "            queue.append(node.left)  # / В очередь добавляется левый потомок.\n",
    "        if node.right:\n",
    "            queue.append(node.right) # / В очередь добавляется правый потомок.\n",
    "\n",
    "level_order(node01)"
   ]
  },
  {
   "cell_type": "markdown",
   "metadata": {},
   "source": [
    "# **Сортировки**"
   ]
  },
  {
   "cell_type": "code",
   "execution_count": 64,
   "metadata": {},
   "outputs": [
    {
     "name": "stdout",
     "output_type": "stream",
     "text": [
      "[82, 15, 4, 95, 36, 32, 29, 18, 95, 14]\n"
     ]
    }
   ],
   "source": [
    "import random, timeit\n",
    "\n",
    "random.seed(42)\n",
    "\n",
    "# / Генерация списка из 10 случайных чисел от 1 до 100.\n",
    "random_list = [random.randint(1, 100) for _ in range(10)]\n",
    "\n",
    "print(random_list)"
   ]
  },
  {
   "cell_type": "code",
   "execution_count": null,
   "metadata": {},
   "outputs": [
    {
     "ename": "",
     "evalue": "",
     "output_type": "error",
     "traceback": [
      "\u001b[1;31mThe Kernel crashed while executing code in the current cell or a previous cell. \n",
      "\u001b[1;31mPlease review the code in the cell(s) to identify a possible cause of the failure. \n",
      "\u001b[1;31mClick <a href='https://aka.ms/vscodeJupyterKernelCrash'>here</a> for more info. \n",
      "\u001b[1;31mView Jupyter <a href='command:jupyter.viewOutput'>log</a> for further details."
     ]
    }
   ],
   "source": [
    "import tracemalloc\n",
    "from functools import wraps\n",
    "\n",
    "def memory_usage_decorator(func):\n",
    "    @wraps(func)\n",
    "    def wrapper(*args, **kwargs):\n",
    "        tracemalloc.start()  # / Начинаем отслеживание использования памяти.\n",
    "        result = func(*args, **kwargs)  # / Выполняем функцию.\n",
    "        current, peak = tracemalloc.get_traced_memory()  # / Получаем текущую и пиковую память.\n",
    "        print(f\"Текущая память: {current / 10**3:.2f} KB; Пиковая память: {peak / 10**3:.2f} KB\")\n",
    "        tracemalloc.stop()  # / Останавливаем отслеживание.\n",
    "        return result\n",
    "    return wrapper"
   ]
  },
  {
   "cell_type": "markdown",
   "metadata": {},
   "source": [
    "## **1. Пузырьковая сортировка (Bubble Sort) – O(n²)**\n",
    "\n",
    "Сравнивает соседние элементы и меняет их местами, если нужно. Проходится по массиву несколько раз.\n",
    "\n",
    "Неэффективен, но прост.\n",
    "\n",
    "Вот шаги алгоритма сортировки пузырьком:\n",
    "\n",
    "    - Сравнение соседних элементов: начинаем с первого элемента и сравниваем его с соседним (вторым). Если первый элемент больше второго, меняем их местами.\n",
    "    - Продолжаем проход по списку: далее переходим ко второму элементу и сравниваем его с третьим, и так далее до конца списка.\n",
    "    - Повторяем процесс: после завершения одного прохода наибольший элемент окажется в конце списка (как пузырёк, который всплывает наверх).\n",
    "    - Снижение количества сравнений: в каждом следующем проходе последний элемент уже будет отсортирован, и его можно игнорировать. Таким образом, количество сравнений постепенно уменьшается."
   ]
  },
  {
   "cell_type": "code",
   "execution_count": 93,
   "metadata": {},
   "outputs": [],
   "source": [
    "@memory_usage_decorator\n",
    "def bubble_sort(arr=random_list):\n",
    "    n = len(arr)\n",
    "    for i in range(n):\n",
    "        for j in range(n - i - 1):\n",
    "            # / Если порядок неправильный (предыдущий > следущего), меняет элементы местами.\n",
    "            if arr[j] > arr[j + 1]:\n",
    "                arr[j], arr[j + 1] = arr[j + 1], arr[j]\n",
    "            # print(arr)\n",
    "    return arr"
   ]
  },
  {
   "cell_type": "code",
   "execution_count": 94,
   "metadata": {},
   "outputs": [
    {
     "name": "stdout",
     "output_type": "stream",
     "text": [
      "Текущая память: 0.00 KB; Пиковая память: 0.11 KB\n"
     ]
    },
    {
     "data": {
      "text/plain": [
       "[4, 14, 15, 18, 29, 32, 36, 82, 95, 95]"
      ]
     },
     "execution_count": 94,
     "metadata": {},
     "output_type": "execute_result"
    }
   ],
   "source": [
    "bubble_sort()"
   ]
  },
  {
   "cell_type": "code",
   "execution_count": 99,
   "metadata": {},
   "outputs": [
    {
     "name": "stdout",
     "output_type": "stream",
     "text": [
      "Текущая память: 0.00 KB; Пиковая память: 0.11 KB\n",
      "Текущая память: 0.00 KB; Пиковая память: 0.11 KB\n",
      "Текущая память: 0.00 KB; Пиковая память: 0.11 KB\n",
      "Текущая память: 0.00 KB; Пиковая память: 0.11 KB\n",
      "Текущая память: 0.00 KB; Пиковая память: 0.11 KB\n",
      "Текущая память: 0.00 KB; Пиковая память: 0.11 KB\n",
      "Текущая память: 0.00 KB; Пиковая память: 0.11 KB\n",
      "Текущая память: 0.00 KB; Пиковая память: 0.11 KB\n",
      "Текущая память: 0.00 KB; Пиковая память: 0.11 KB\n",
      "Текущая память: 0.00 KB; Пиковая память: 0.11 KB\n",
      "Время выполнения: 0.001048 секунд\n"
     ]
    }
   ],
   "source": [
    "execution_time  = timeit.timeit(bubble_sort, number=10)\n",
    "\n",
    "print(f\"Время выполнения: {execution_time:.6f} секунд\")"
   ]
  },
  {
   "cell_type": "markdown",
   "metadata": {},
   "source": [
    "Xудший случай: O(n²), если массив изначально отсортирован в обратном порядке.\n",
    "Лучший случай: O(n), если массив уже отсортирован."
   ]
  },
  {
   "cell_type": "markdown",
   "metadata": {},
   "source": [
    "## **2. Сортировка вставками (Insertion Sort) – O(n²)**\n",
    "\n",
    "Берем элементы по одному и вставляем в нужное место в отсортированной части.\n",
    "\n",
    "Подходит для почти отсортированных массивов."
   ]
  },
  {
   "cell_type": "code",
   "execution_count": null,
   "metadata": {},
   "outputs": [],
   "source": [
    "def insertion_sort(arr):\n",
    "    for i in range(1, len(arr)):\n",
    "        key = arr[i] # / Начинаем со второго элемента массива.\n",
    "        j = i - 1    # / Предыдущий индекс.\n",
    "        while j >= 0 and arr[j] > key: # / Если предыдущий элемент больше настоящего.\n",
    "            arr[j + 1] = arr[j] # / Ставим предыдущий элемент на масто настоящего.\n",
    "            j -= 1\n",
    "        arr[j + 1] = key # / Настоящий элемент ставим на место предыдущего.\n",
    "    return arr"
   ]
  },
  {
   "cell_type": "markdown",
   "metadata": {},
   "source": [
    "**Leetcode / 88. Merge Sorted Array**\n",
    "\n",
    "Слияние двух отсортированных списков."
   ]
  },
  {
   "cell_type": "code",
   "execution_count": null,
   "metadata": {},
   "outputs": [],
   "source": [
    "from typing import List\n",
    "\n",
    "def merge(nums1: List[int], m: int, nums2: List[int], n: int) -> None:\n",
    "    i = m - 1      # / Указатель на последний полезный элемент nums1.\n",
    "    j = n - 1      # / Указатель на последний элемент nums2.\n",
    "    k = m + n - 1  # / Указатель на конец nums1, куда будем вставлять элементы.\n",
    "    while j >= 0:\n",
    "        if i >= 0 and nums1[i] > nums2[j]:  # / Берем больший элемент из nums1 или nums2.\n",
    "            nums1[k] = nums1[i]\n",
    "            i -= 1\n",
    "        else:\n",
    "            nums1[k] = nums2[j]\n",
    "            j -= 1\n",
    "        k -= 1"
   ]
  },
  {
   "cell_type": "code",
   "execution_count": 33,
   "metadata": {},
   "outputs": [
    {
     "data": {
      "text/plain": [
       "[1, 2, 2, 3, 5, 6]"
      ]
     },
     "execution_count": 33,
     "metadata": {},
     "output_type": "execute_result"
    }
   ],
   "source": [
    "nums1= [1,2,3,0,0,0]; nums2 = [2,5,6]\n",
    "\n",
    "merge(nums1, 3, nums2, 3)\n",
    "\n",
    "nums1"
   ]
  },
  {
   "cell_type": "markdown",
   "metadata": {},
   "source": [
    "## **3. Сортировка выбором (Selection Sort) – O(n²)**\n",
    "\n",
    "Находит минимальный элемент и меняет его с первым. Повторяет процесс.\n",
    "Худшая из O(n²), так как делает много ненужных операций."
   ]
  },
  {
   "cell_type": "code",
   "execution_count": 100,
   "metadata": {},
   "outputs": [],
   "source": [
    "def selection_sort(arr):\n",
    "    n = len(arr)\n",
    "    for i in range(n):\n",
    "        min_idx = i\n",
    "        for j in range(i + 1, n):\n",
    "            if arr[j] < arr[min_idx]:\n",
    "                min_idx = j\n",
    "        arr[i], arr[min_idx] = arr[min_idx], arr[i]\n",
    "    return arr"
   ]
  },
  {
   "cell_type": "markdown",
   "metadata": {},
   "source": [
    "## **4. Сортировка слиянием (Merge Sort) – O(n log n)**\n",
    "\n",
    "Рекурсивно делит массив пополам, сортирует обе половины и сливает их обратно.\n",
    "\n",
    "**Плюсы:** Всегда O(n log n), устойчива.\n",
    "**Минусы:** Требует O(n) памяти, так как создаются временные массивы."
   ]
  },
  {
   "cell_type": "markdown",
   "metadata": {},
   "source": [
    "**На заметку!**\n",
    "\n",
    "В рекурсивных алгоритмах может казаться, что код выполняется после return, но на самом деле он выполняется на более высоком уровне рекурсивных вызовов."
   ]
  },
  {
   "cell_type": "code",
   "execution_count": null,
   "metadata": {},
   "outputs": [],
   "source": [
    "def merge_sort(arr):\n",
    "    if len(arr) <= 1:\n",
    "        print(f\"Базовый случай: {arr}\")\n",
    "        return arr\n",
    "    # / Делит массив пополам рекурсивно, пока не получатся единичные подмассивы.\n",
    "    mid = len(arr) // 2\n",
    "    print('mid: ', mid)\n",
    "    \n",
    "    left = merge_sort(arr[:mid]); right = merge_sort(arr[mid:])\n",
    "    print(f\"Слияние: {left} и {right}\")\n",
    "\n",
    "    result = []\n",
    "    i = j = 0\n",
    "    while i < len(left) and j < len(right):\n",
    "        # / Сравнение первых элементов левого и правого списка. Минимальный элемент добаляется в result.\n",
    "        if left[i] < right[j]:\n",
    "            result.append(left[i])\n",
    "            i += 1\n",
    "        else:\n",
    "            result.append(right[j])\n",
    "            j += 1\n",
    "    # / Добавляем все оставшиеся элементы из left или right, если один из массивов закончился раньше.\n",
    "    # / Без этого последние элементы могли бы \"потеряться\".\n",
    "    result.extend(left[i:])\n",
    "    result.extend(right[j:])\n",
    "    print(f\"Результат слияния: {result}\")\n",
    "\n",
    "    return result"
   ]
  },
  {
   "cell_type": "code",
   "execution_count": 14,
   "metadata": {},
   "outputs": [
    {
     "data": {
      "text/plain": [
       "[82, 15, 4, 95, 36, 32, 29, 18, 95, 14]"
      ]
     },
     "execution_count": 14,
     "metadata": {},
     "output_type": "execute_result"
    }
   ],
   "source": [
    "random_list"
   ]
  },
  {
   "cell_type": "code",
   "execution_count": null,
   "metadata": {},
   "outputs": [],
   "source": [
    "sorted_list = merge_sort(random_list)"
   ]
  },
  {
   "cell_type": "code",
   "execution_count": 34,
   "metadata": {},
   "outputs": [
    {
     "data": {
      "text/plain": [
       "[4, 14, 15, 18, 29, 32, 36, 82, 95, 95]"
      ]
     },
     "execution_count": 34,
     "metadata": {},
     "output_type": "execute_result"
    }
   ],
   "source": [
    "sorted_list"
   ]
  },
  {
   "cell_type": "code",
   "execution_count": 21,
   "metadata": {},
   "outputs": [
    {
     "name": "stdout",
     "output_type": "stream",
     "text": [
      "mid:  5\n",
      "mid:  2\n",
      "mid:  1\n",
      "Базовый случай: [82]\n",
      "Базовый случай: [15]\n",
      "Слияние: [82] и [15]\n",
      "До extend: [15]\n",
      "Результат слияния: [15, 82]\n",
      "mid:  1\n",
      "Базовый случай: [4]\n",
      "mid:  1\n",
      "Базовый случай: [95]\n",
      "Базовый случай: [36]\n",
      "Слияние: [95] и [36]\n",
      "До extend: [36]\n",
      "Результат слияния: [36, 95]\n",
      "Слияние: [4] и [36, 95]\n",
      "До extend: [4]\n",
      "Результат слияния: [4, 36, 95]\n",
      "Слияние: [15, 82] и [4, 36, 95]\n",
      "До extend: [4, 15, 36, 82]\n",
      "Результат слияния: [4, 15, 36, 82, 95]\n",
      "mid:  2\n",
      "mid:  1\n",
      "Базовый случай: [32]\n",
      "Базовый случай: [29]\n",
      "Слияние: [32] и [29]\n",
      "До extend: [29]\n",
      "Результат слияния: [29, 32]\n",
      "mid:  1\n",
      "Базовый случай: [18]\n",
      "mid:  1\n",
      "Базовый случай: [95]\n",
      "Базовый случай: [14]\n",
      "Слияние: [95] и [14]\n",
      "До extend: [14]\n",
      "Результат слияния: [14, 95]\n",
      "Слияние: [18] и [14, 95]\n",
      "До extend: [14, 18]\n",
      "Результат слияния: [14, 18, 95]\n",
      "Слияние: [29, 32] и [14, 18, 95]\n",
      "До extend: [14, 18, 29, 32]\n",
      "Результат слияния: [14, 18, 29, 32, 95]\n",
      "Слияние: [4, 15, 36, 82, 95] и [14, 18, 29, 32, 95]\n",
      "До extend: [4, 14, 15, 18, 29, 32, 36, 82, 95]\n",
      "Результат слияния: [4, 14, 15, 18, 29, 32, 36, 82, 95, 95]\n"
     ]
    },
    {
     "data": {
      "text/plain": [
       "[4, 14, 15, 18, 29, 32, 36, 82, 95, 95]"
      ]
     },
     "execution_count": 21,
     "metadata": {},
     "output_type": "execute_result"
    }
   ],
   "source": [
    "merge_sort(random_list)"
   ]
  },
  {
   "cell_type": "markdown",
   "metadata": {},
   "source": [
    "## **5. Быстрая сортировка (QuickSort) – O(n log n)**\n",
    "\n",
    "Выбирает опорный элемент (pivot), разделяет массив на меньшие и большие, рекурсивно сортирует.\n",
    "\n",
    "**Плюсы:** Быстрее Merge Sort, так как не требует доп. памяти.\n",
    "**Минусы:** В худшем случае (если pivot плохой) – O(n²)."
   ]
  },
  {
   "cell_type": "code",
   "execution_count": null,
   "metadata": {},
   "outputs": [],
   "source": [
    "def quick_sort(arr):\n",
    "    if len(arr) <= 1:\n",
    "        return arr\n",
    "    \n",
    "    pivot  = arr[len(arr) // 2]\n",
    "    left   = [x for x in arr if x <  pivot]\n",
    "    middle = [x for x in arr if x == pivot]\n",
    "    right  = [x for x in arr if x >  pivot]\n",
    "    \n",
    "    return quick_sort(left) + middle + quick_sort(right)"
   ]
  },
  {
   "cell_type": "markdown",
   "metadata": {},
   "source": [
    "# **Поиск**"
   ]
  },
  {
   "cell_type": "markdown",
   "metadata": {},
   "source": [
    "## **1. Линейный поиск (O(n))**\n",
    "\n",
    "Просто проходим по массиву и ищем нужный элемент. Подходит для маленьких или неотсортированных массивов."
   ]
  },
  {
   "cell_type": "code",
   "execution_count": 22,
   "metadata": {},
   "outputs": [],
   "source": [
    "def linear_search(arr, target):\n",
    "    for i in range(len(arr)):\n",
    "        if arr[i] == target:\n",
    "            return i  # / Нашли, возвращаем индекс.\n",
    "    return -1  # / Не нашли."
   ]
  },
  {
   "cell_type": "markdown",
   "metadata": {},
   "source": [
    "## **2. Бинарный поиск (O(log n))**\n",
    "\n",
    "Работает только на отсортированных массивах!\n",
    "\n",
    "Принцип работы:\n",
    "\n",
    "    Берем средний элемент.\n",
    "    Если он равен target → нашли!\n",
    "    Если target < mid → идем в левую часть.\n",
    "    Если target > mid → идем в правую часть.\n",
    "    Повторяем, пока не найдем элемент или массив не закончится."
   ]
  },
  {
   "cell_type": "code",
   "execution_count": 26,
   "metadata": {},
   "outputs": [],
   "source": [
    "def binary_search(arr, target):\n",
    "    left, right = 0, len(arr) - 1\n",
    "    while left <= right:\n",
    "        mid = (left + right) // 2  # / Находим середину.\n",
    "        if arr[mid] == target:\n",
    "            return mid  # / Нашли.\n",
    "        elif arr[mid] < target:\n",
    "            left = mid + 1  # / Ищем в правой половине.\n",
    "        else:\n",
    "            right = mid - 1  # / Ищем в левой половине.\n",
    "    return -1  # / Не нашли."
   ]
  },
  {
   "cell_type": "code",
   "execution_count": 35,
   "metadata": {},
   "outputs": [
    {
     "data": {
      "text/plain": [
       "[4, 14, 15, 18, 29, 32, 36, 82, 95, 95]"
      ]
     },
     "execution_count": 35,
     "metadata": {},
     "output_type": "execute_result"
    }
   ],
   "source": [
    "sorted_list"
   ]
  },
  {
   "cell_type": "code",
   "execution_count": 36,
   "metadata": {},
   "outputs": [
    {
     "data": {
      "text/plain": [
       "3"
      ]
     },
     "execution_count": 36,
     "metadata": {},
     "output_type": "execute_result"
    }
   ],
   "source": [
    "binary_search(sorted_list, 18)"
   ]
  },
  {
   "cell_type": "markdown",
   "metadata": {},
   "source": [
    "## **3. Интерполяционный поиск (O(log log n), но O(n) в худшем случае)**\n",
    "\n",
    "Улучшенный вариант бинарного поиска для равномерно распределенных чисел.\n",
    "\n",
    "Разница с бинарным поиском: вместо mid = (left + right) // 2 он угадывает, где примерно находится target.\n",
    "\n",
    "Использует формулу **линейной интерполяции** для нахождения позиции target."
   ]
  },
  {
   "cell_type": "code",
   "execution_count": null,
   "metadata": {},
   "outputs": [],
   "source": [
    "def interpolation_search(arr, target):\n",
    "    left, right = 0, len(arr) - 1\n",
    "    while left <= right and target >= arr[left] and target <= arr[right]:\n",
    "        # / Предугадывание target.\n",
    "        pos = left + ((right - left) * (target - arr[left])) // (arr[right] - arr[left])\n",
    "        if arr[pos] == target:\n",
    "            return pos\n",
    "        elif arr[pos] < target:\n",
    "            left = pos + 1\n",
    "        else:\n",
    "            right = pos - 1\n",
    "    return -1"
   ]
  },
  {
   "cell_type": "markdown",
   "metadata": {},
   "source": [
    "# **Динамическое программирование (DP)**\n",
    "\n",
    "Метод оптимизации, используемый для решения сложных задач, которые можно разбить на более простые подзадачи. \n",
    "\n",
    "Основная идея заключается в том, чтобы решать каждую подзадачу один раз, сохранять её результат и использовать его повторно, избегая избыточных вычислений.\n",
    "\n",
    "**Принципы динамического программирования:**\n",
    "\n",
    "- Оптимальная подструктура - решение исходной задачи можно составить из решений её подзадач.\n",
    "- Перекрывающиеся подзадачи – одна и та же подзадача решается многократно, поэтому её результат стоит запоминать."
   ]
  },
  {
   "cell_type": "markdown",
   "metadata": {},
   "source": [
    "## **0. Рекурсивный подход (наивный, без DP)**"
   ]
  },
  {
   "cell_type": "code",
   "execution_count": 86,
   "metadata": {},
   "outputs": [
    {
     "name": "stdout",
     "output_type": "stream",
     "text": [
      "55\n"
     ]
    }
   ],
   "source": [
    "# / Вычисление числа Фибоначчи.\n",
    "def fib(n):\n",
    "    if n <= 1:\n",
    "        return n\n",
    "    return fib(n - 1) + fib(n - 2)\n",
    "\n",
    "print(fib(10))"
   ]
  },
  {
   "cell_type": "markdown",
   "metadata": {},
   "source": [
    "## **1. Мемоизация (Top-Down, \"сверху вниз\")** \n",
    "\n",
    "Рекурсивный подход с кешированием результатов уже решённых подзадач."
   ]
  },
  {
   "cell_type": "code",
   "execution_count": null,
   "metadata": {},
   "outputs": [
    {
     "name": "stdout",
     "output_type": "stream",
     "text": [
      "55\n"
     ]
    }
   ],
   "source": [
    "# / Вычисление числа Фибоначчи.\n",
    "def fib_memo(n, memo={}):\n",
    "    if n in memo:\n",
    "        return memo[n]\n",
    "    if n <= 1:\n",
    "        return n\n",
    "    memo[n] = fib_memo(n - 1, memo) + fib_memo(n - 2, memo)\n",
    "    return memo[n]\n",
    "\n",
    "print(fib_memo(10))"
   ]
  },
  {
   "cell_type": "markdown",
   "metadata": {},
   "source": [
    "## **2. Заполнение таблицы (Bottom-Up, \"снизу вверх\")**\n",
    "\n",
    "Итеративное вычисление решений, начиная с самых простых случаев."
   ]
  },
  {
   "cell_type": "code",
   "execution_count": 87,
   "metadata": {},
   "outputs": [
    {
     "name": "stdout",
     "output_type": "stream",
     "text": [
      "55\n"
     ]
    }
   ],
   "source": [
    "# / Вычисление числа Фибоначчи.\n",
    "def fib_tab(n):\n",
    "    if n <= 1:\n",
    "        return n\n",
    "    dp = [0] * (n + 1)\n",
    "    dp[1] = 1\n",
    "    for i in range(2, n + 1):\n",
    "        dp[i] = dp[i - 1] + dp[i - 2]\n",
    "    return dp[n]\n",
    "\n",
    "print(fib_tab(10))"
   ]
  },
  {
   "cell_type": "markdown",
   "metadata": {},
   "source": [
    "## **3. Оптимизированный метод (хранение только 2-х последних значений)**\n",
    "\n",
    "Максимально эффективный вариант: сложность O(n)O(n), но вместо массива используем две переменные."
   ]
  },
  {
   "cell_type": "code",
   "execution_count": 88,
   "metadata": {},
   "outputs": [
    {
     "name": "stdout",
     "output_type": "stream",
     "text": [
      "55\n"
     ]
    }
   ],
   "source": [
    "# / Вычисление числа Фибоначчи.\n",
    "def fib_optimized(n):\n",
    "    if n <= 1:\n",
    "        return n\n",
    "    a, b = 0, 1\n",
    "    for _ in range(2, n + 1):\n",
    "        a, b = b, a + b\n",
    "    return b\n",
    "\n",
    "print(fib_optimized(10))"
   ]
  }
 ],
 "metadata": {
  "kernelspec": {
   "display_name": "DL",
   "language": "python",
   "name": "python3"
  },
  "language_info": {
   "codemirror_mode": {
    "name": "ipython",
    "version": 3
   },
   "file_extension": ".py",
   "mimetype": "text/x-python",
   "name": "python",
   "nbconvert_exporter": "python",
   "pygments_lexer": "ipython3",
   "version": "3.12.8"
  }
 },
 "nbformat": 4,
 "nbformat_minor": 2
}
